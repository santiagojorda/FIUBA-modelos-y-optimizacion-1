{
 "cells": [
  {
   "cell_type": "code",
   "execution_count": 1,
   "metadata": {},
   "outputs": [],
   "source": [
    "# Import libs\n",
    "import sys\n",
    "import matplotlib.pyplot as plt\n",
    "from docplex.mp.model import Model\n",
    "from docplex.mp.relax_linear import LinearRelaxer\n",
    "\n",
    "try:\n",
    "    import docplex.mp\n",
    "except:\n",
    "    raise Exception('Please install docplex. See https://pypi.org/project/docplex/')"
   ]
  },
  {
   "cell_type": "code",
   "execution_count": null,
   "metadata": {},
   "outputs": [],
   "source": [
    "#Declaro los parametros\n",
    "\n",
    "# precios por tonelada de A y de B: los defino arbitrariamente\n",
    "P_A = 0\n",
    "P_B = 0\n",
    "\n",
    "# nombre, beneficio, maxima demanda (opcional), minima demanda (opcional)\n",
    "products = [(\"A\", P_A),\n",
    "            (\"B\", P_B),\n",
    "            (\"YacimientoSierraAlta\", -10),\n",
    "            (\"YacimientoSierraChica\", -40),\n",
    "            (\"YacimientoElAbra\", -50)]\n",
    "\n",
    "# recursos: me tengo que asegurar que todos estan asociados al mismo periodo: un mes\n",
    "resources = [(\"MinaSierraAlta\", 1000),\n",
    "             (\"MinaSierraChica\", 2000),\n",
    "             (\"MinaElAbra\", 3000)]"
   ]
  }
 ],
 "metadata": {
  "kernelspec": {
   "display_name": "mo-env",
   "language": "python",
   "name": "python3"
  },
  "language_info": {
   "codemirror_mode": {
    "name": "ipython",
    "version": 3
   },
   "file_extension": ".py",
   "mimetype": "text/x-python",
   "name": "python",
   "nbconvert_exporter": "python",
   "pygments_lexer": "ipython3",
   "version": "3.10.0"
  }
 },
 "nbformat": 4,
 "nbformat_minor": 2
}
