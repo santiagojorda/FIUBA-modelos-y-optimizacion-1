{
 "cells": [
  {
   "cell_type": "code",
   "execution_count": null,
   "metadata": {},
   "outputs": [],
   "source": [
    "# Import libs\n",
    "import sys\n",
    "import matplotlib.pyplot as plt\n",
    "from docplex.mp.model import Model\n",
    "from docplex.mp.relax_linear import LinearRelaxer\n",
    "\n",
    "try:\n",
    "    import docplex.mp\n",
    "except:\n",
    "    raise Exception('Please install docplex. See https://pypi.org/project/docplex/')"
   ]
  }
 ],
 "metadata": {
  "kernelspec": {
   "display_name": "mo-env",
   "language": "python",
   "name": "python3"
  },
  "language_info": {
   "name": "python",
   "version": "3.10.0"
  }
 },
 "nbformat": 4,
 "nbformat_minor": 2
}
