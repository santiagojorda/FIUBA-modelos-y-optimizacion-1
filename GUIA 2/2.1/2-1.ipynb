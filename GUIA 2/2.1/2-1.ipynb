{
 "cells": [
  {
   "cell_type": "code",
   "execution_count": 2,
   "metadata": {},
   "outputs": [
    {
     "ename": "AttributeError",
     "evalue": "module 'matplotlib' has no attribute 'get_data_path'",
     "output_type": "error",
     "traceback": [
      "\u001b[1;31m---------------------------------------------------------------------------\u001b[0m",
      "\u001b[1;31mAttributeError\u001b[0m                            Traceback (most recent call last)",
      "Cell \u001b[1;32mIn[2], line 3\u001b[0m\n\u001b[0;32m      1\u001b[0m \u001b[38;5;66;03m# Import libs\u001b[39;00m\n\u001b[0;32m      2\u001b[0m \u001b[38;5;28;01mimport\u001b[39;00m \u001b[38;5;21;01msys\u001b[39;00m\n\u001b[1;32m----> 3\u001b[0m \u001b[38;5;28;01mimport\u001b[39;00m \u001b[38;5;21;01mmatplotlib\u001b[39;00m\u001b[38;5;21;01m.\u001b[39;00m\u001b[38;5;21;01mpyplot\u001b[39;00m \u001b[38;5;28;01mas\u001b[39;00m \u001b[38;5;21;01mplt\u001b[39;00m\n\u001b[0;32m      4\u001b[0m \u001b[38;5;28;01mfrom\u001b[39;00m \u001b[38;5;21;01mdocplex\u001b[39;00m\u001b[38;5;21;01m.\u001b[39;00m\u001b[38;5;21;01mmp\u001b[39;00m\u001b[38;5;21;01m.\u001b[39;00m\u001b[38;5;21;01mmodel\u001b[39;00m \u001b[38;5;28;01mimport\u001b[39;00m Model\n\u001b[0;32m      5\u001b[0m \u001b[38;5;28;01mfrom\u001b[39;00m \u001b[38;5;21;01mdocplex\u001b[39;00m\u001b[38;5;21;01m.\u001b[39;00m\u001b[38;5;21;01mmp\u001b[39;00m\u001b[38;5;21;01m.\u001b[39;00m\u001b[38;5;21;01mrelax_linear\u001b[39;00m \u001b[38;5;28;01mimport\u001b[39;00m LinearRelaxer\n",
      "File \u001b[1;32mc:\\Users\\jorda\\Desktop\\FIUBA-modelos-y-optimizacion-tpg\\mo-env\\lib\\site-packages\\matplotlib\\__init__.py:968\u001b[0m\n\u001b[0;32m    961\u001b[0m     \u001b[38;5;28;01mreturn\u001b[39;00m config\n\u001b[0;32m    964\u001b[0m \u001b[38;5;66;03m# When constructing the global instances, we need to perform certain updates\u001b[39;00m\n\u001b[0;32m    965\u001b[0m \u001b[38;5;66;03m# by explicitly calling the superclass (dict.update, dict.items) to avoid\u001b[39;00m\n\u001b[0;32m    966\u001b[0m \u001b[38;5;66;03m# triggering resolution of _auto_backend_sentinel.\u001b[39;00m\n\u001b[0;32m    967\u001b[0m rcParamsDefault \u001b[38;5;241m=\u001b[39m _rc_params_in_file(\n\u001b[1;32m--> 968\u001b[0m     \u001b[43mcbook\u001b[49m\u001b[38;5;241;43m.\u001b[39;49m\u001b[43m_get_data_path\u001b[49m\u001b[43m(\u001b[49m\u001b[38;5;124;43m\"\u001b[39;49m\u001b[38;5;124;43mmatplotlibrc\u001b[39;49m\u001b[38;5;124;43m\"\u001b[39;49m\u001b[43m)\u001b[49m,\n\u001b[0;32m    969\u001b[0m     \u001b[38;5;66;03m# Strip leading comment.\u001b[39;00m\n\u001b[0;32m    970\u001b[0m     transform\u001b[38;5;241m=\u001b[39m\u001b[38;5;28;01mlambda\u001b[39;00m line: line[\u001b[38;5;241m1\u001b[39m:] \u001b[38;5;28;01mif\u001b[39;00m line\u001b[38;5;241m.\u001b[39mstartswith(\u001b[38;5;124m\"\u001b[39m\u001b[38;5;124m#\u001b[39m\u001b[38;5;124m\"\u001b[39m) \u001b[38;5;28;01melse\u001b[39;00m line,\n\u001b[0;32m    971\u001b[0m     fail_on_error\u001b[38;5;241m=\u001b[39m\u001b[38;5;28;01mTrue\u001b[39;00m)\n\u001b[0;32m    972\u001b[0m \u001b[38;5;28mdict\u001b[39m\u001b[38;5;241m.\u001b[39mupdate(rcParamsDefault, rcsetup\u001b[38;5;241m.\u001b[39m_hardcoded_defaults)\n\u001b[0;32m    973\u001b[0m \u001b[38;5;66;03m# Normally, the default matplotlibrc file contains *no* entry for backend (the\u001b[39;00m\n\u001b[0;32m    974\u001b[0m \u001b[38;5;66;03m# corresponding line starts with ##, not #; we fill on _auto_backend_sentinel\u001b[39;00m\n\u001b[0;32m    975\u001b[0m \u001b[38;5;66;03m# in that case.  However, packagers can set a different default backend\u001b[39;00m\n\u001b[0;32m    976\u001b[0m \u001b[38;5;66;03m# (resulting in a normal `#backend: foo` line) in which case we should *not*\u001b[39;00m\n\u001b[0;32m    977\u001b[0m \u001b[38;5;66;03m# fill in _auto_backend_sentinel.\u001b[39;00m\n",
      "File \u001b[1;32mc:\\Users\\jorda\\Desktop\\FIUBA-modelos-y-optimizacion-tpg\\mo-env\\lib\\site-packages\\matplotlib\\cbook.py:545\u001b[0m, in \u001b[0;36m_get_data_path\u001b[1;34m(*args)\u001b[0m\n\u001b[0;32m    539\u001b[0m \u001b[38;5;28;01mdef\u001b[39;00m \u001b[38;5;21m_get_data_path\u001b[39m(\u001b[38;5;241m*\u001b[39margs):\n\u001b[0;32m    540\u001b[0m \u001b[38;5;250m    \u001b[39m\u001b[38;5;124;03m\"\"\"\u001b[39;00m\n\u001b[0;32m    541\u001b[0m \u001b[38;5;124;03m    Return the `pathlib.Path` to a resource file provided by Matplotlib.\u001b[39;00m\n\u001b[0;32m    542\u001b[0m \n\u001b[0;32m    543\u001b[0m \u001b[38;5;124;03m    ``*args`` specify a path relative to the base data path.\u001b[39;00m\n\u001b[0;32m    544\u001b[0m \u001b[38;5;124;03m    \"\"\"\u001b[39;00m\n\u001b[1;32m--> 545\u001b[0m     \u001b[38;5;28;01mreturn\u001b[39;00m Path(\u001b[43mmatplotlib\u001b[49m\u001b[38;5;241;43m.\u001b[39;49m\u001b[43mget_data_path\u001b[49m(), \u001b[38;5;241m*\u001b[39margs)\n",
      "\u001b[1;31mAttributeError\u001b[0m: module 'matplotlib' has no attribute 'get_data_path'"
     ]
    }
   ],
   "source": [
    "# Import libs\n",
    "import sys\n",
    "import matplotlib.pyplot as plt\n",
    "from docplex.mp.model import Model\n",
    "from docplex.mp.relax_linear import LinearRelaxer\n",
    "\n",
    "try:\n",
    "    import docplex.mp\n",
    "except:\n",
    "    raise Exception('Please install docplex. See https://pypi.org/project/docplex/')"
   ]
  },
  {
   "cell_type": "code",
   "execution_count": 82,
   "metadata": {},
   "outputs": [],
   "source": [
    "# Declare the parameters\n",
    "\n",
    "# name, benefit, max demand, min demand\n",
    "products = [(\"A\", 18),\n",
    "            (\"B1\", 15),\n",
    "            (\"B2\", 15),\n",
    "            (\"C\", 18),]\n",
    "\n",
    "# week resources are a list of simple tuples (name, capacity)\n",
    "# each machine works 2 shifts of 8 hours, from Monday to Friday \n",
    "# productive capacity per week => 2*8*5 = 80\n",
    "resources = [(\"Maquina1\", 80),\n",
    "             (\"Maquina2\", 80),\n",
    "             (\"LanaNormal\", 36),\n",
    "             (\"LanaMejorada\", 20)]\n",
    "\n",
    "consumptions = {(\"A\", \"Maquina1\"): 5,\n",
    "                (\"B1\", \"Maquina1\"): 6,\n",
    "                (\"B2\", \"Maquina1\"): 0,\n",
    "                (\"C\", \"Maquina1\"): 0,\n",
    "                (\"A\", \"Maquina2\"): 0,\n",
    "                (\"B1\", \"Maquina2\"): 0,\n",
    "                (\"B2\", \"Maquina2\"): 4,\n",
    "                (\"C\", \"Maquina2\"): 4,\n",
    "                (\"A\", \"LanaNormal\"): 0,\n",
    "                (\"B1\", \"LanaNormal\"): 1.8,\n",
    "                (\"B2\", \"LanaNormal\"): 1.8,\n",
    "                (\"C\", \"LanaNormal\"): 0,\n",
    "                (\"A\", \"LanaMejorada\"): 1.6,\n",
    "                (\"B1\", \"LanaMejorada\"): 0,\n",
    "                (\"B2\", \"LanaMejorada\"): 0,\n",
    "                (\"C\", \"LanaMejorada\"): 1.2}"
   ]
  },
  {
   "cell_type": "code",
   "execution_count": null,
   "metadata": {},
   "outputs": [],
   "source": [
    "# Create the model with constraints and objective\n",
    "def create_model():\n",
    "    mdl = Model(name=\"Ejercicio 2.1\")\n",
    "\n",
    "    produccion_vars = mdl.continuous_var_dict(products, name='produccion')\n",
    "\n",
    "    # --- constraints ---\n",
    "\n",
    "    # --- resources disp equipo ---\n",
    "    # Suma todas las restricciones del mismo tipo\n",
    "    mdl.add_constraints((mdl.sum(produccion_vars[p] * consumptions[p[0], res[0]] for p in products) <= res[1], 'Disp_%s' % res[0]) for res in resources)\n",
    "\n",
    "    # --- print information ---\n",
    "    mdl.print_information()\n",
    "\n",
    "    mdl.add_constraints( (produccion_vars[products[1]] + produccion_vars[products[2]] ) >= 10,)\n",
    "    \n",
    "    # --- set the objective ---\n",
    "    total_benefit = mdl.sum(produccion_vars[p] * p[1] for p in products)\n",
    "    mdl.maximize(total_benefit)\n",
    "\n",
    "    return mdl, produccion_vars, products\n",
    "\n",
    "# Solve the model\n",
    "def solve_model(mdl):\n",
    "    solution = mdl.solve()\n",
    "\n",
    "    if not solution:\n",
    "        print(\"Model cannot be solved.\")\n",
    "        sys.exit(1)\n",
    "\n",
    "    obj = mdl.objective_value\n",
    "\n",
    "    print(\"* Production model solved with objective: {:g}\".format(obj))\n",
    "    print(\"* Total benefit=%g\" % mdl.objective_value)\n",
    "    for p in products:\n",
    "        print(\"Production of {product}: {prod_var:.3f}\".format(product=p[0], prod_var=produccion_vars[p].solution_value))\n",
    "\n",
    "# Create the model with constraints and objective\n",
    "mdl, produccion_vars, products = create_model()\n",
    "\n",
    "# Solve the model\n",
    "solve_model(mdl)"
   ]
  }
 ],
 "metadata": {
  "kernelspec": {
   "display_name": "Python 3",
   "language": "python",
   "name": "python3"
  },
  "language_info": {
   "codemirror_mode": {
    "name": "ipython",
    "version": 3
   },
   "file_extension": ".py",
   "mimetype": "text/x-python",
   "name": "python",
   "nbconvert_exporter": "python",
   "pygments_lexer": "ipython3",
   "version": "3.10.0"
  }
 },
 "nbformat": 4,
 "nbformat_minor": 2
}
